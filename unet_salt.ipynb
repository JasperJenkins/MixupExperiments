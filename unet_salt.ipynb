{
 "cells": [
  {
   "cell_type": "code",
   "execution_count": 5,
   "metadata": {},
   "outputs": [],
   "source": [
    "import torch\n",
    "import torch.nn as nn\n",
    "import torch.optim as optim\n",
    "import torch.nn.functional as F\n",
    "from torch.utils.data import DataLoader, TensorDataset\n",
    "from salt_utils import SaltLoader\n",
    "import matplotlib.pyplot as plt\n",
    "from dotted.collection import DottedDict\n",
    "import tqdm\n",
    "\n",
    "def set_seed(seed):\n",
    "  random.seed(seed)\n",
    "  numpy.random.seed(seed)\n",
    "  torch.manual_seed(seed)\n",
    "  torch.cuda.manual_seed_all(seed)\n",
    "\n",
    "\n",
    "def plot_losses(loss_logs):\n",
    "  for loss_label, loss_log in loss_logs:\n",
    "    plt.plot(loss_log['epoch'], loss_log            ['loss'], label=loss_label)\n",
    "  plt.show()\n",
    "  \n",
    "def train(model, epochs=1):\n",
    "  epoch_bar = tqdm.tqdm(range(epochs), desc='epochs')\n",
    "  for e in epoch_bar:\n",
    "    epoch_loss = 0\n",
    "    for img, mask in model.loader:\n",
    "      model.optim.zero_grad()\n",
    "      prediction = model.net(img.cuda())\n",
    "      ground_truth = mask.cuda()\n",
    "      loss = F.binary_cross_entropy_with_logits(prediction, ground_truth)\n",
    "      epoch_loss += loss.item()\n",
    "      loss.backward()\n",
    "      model.optim.step()\n",
    "    model.train_loss_log['epoch'].append(model.epochs_trained)\n",
    "    model.train_loss_log['loss'].append(epoch_loss)\n",
    "    if model.epochs_trained % model.log_test_loss == 0:\n",
    "      test_loss = 0\n",
    "      model.test_loss_log['epoch'].append(model.epochs_trained)\n",
    "      model.test_loss_log['loss'].append(test_loss)\n",
    "    model.epochs_trained += 1\n",
    "      \n",
    "def conv(in_c, out_c):\n",
    "  return nn.Sequential(\n",
    "    nn.Conv2d(in_c, out_c, 3, padding=1, bias=False),\n",
    "    nn.BatchNorm2d(out_c),\n",
    "    nn.ELU(inplace=True),\n",
    "    nn.Conv2d(out_c, out_c, 3, padding=1, bias=False),\n",
    "    nn.BatchNorm2d(out_c),\n",
    "    nn.ELU(inplace=True),\n",
    "  )\n",
    "\n",
    "class UNet(nn.Module):\n",
    "  def __init__(self):\n",
    "    super(UNet, self).__init__()\n",
    "    self.down1 = conv(  2,  16) # (  2, 128, 128) --> ( 16, 128, 128)\n",
    "    self.down2 = conv( 16,  32) # ( 16,  64,  64) --> ( 32,  64,  64)\n",
    "    self.down3 = conv( 32,  64) # ( 32,  32,  32) --> ( 64,  32,  32)\n",
    "    self.down4 = conv( 64, 128) # ( 64,  16,  16) --> (128,  16,  16)\n",
    "    self.down5 = conv(128, 256) # (128,   8,   8) --> (256,   8,   8)\n",
    "    self.up1   = conv(384, 128) # (256,  16,  16) --> (128,  16,  16)\n",
    "    self.up2   = conv(192,  64) # (128,  32,  32) --> ( 64,  32,  32)\n",
    "    self.up3   = conv( 96,  32) # ( 64,  64,  64) --> ( 32,  64,  64)\n",
    "    self.up4   = conv( 48,  16) # ( 32, 128, 128) --> ( 16, 128, 128)\n",
    "    self.tail  = nn.Conv2d(16, 1, 1)\n",
    "    self.downpool = nn.MaxPool2d(kernel_size=2)\n",
    "    self.upsample = nn.Upsample(scale_factor=2, mode='bilinear', align_corners=False)\n",
    "\n",
    "  def forward(self, x):\n",
    "    x_down_128 = self.down1(x)\n",
    "    x_down_64  = self.down2(self.downpool(x_down_128))\n",
    "    x_down_32  = self.down3(self.downpool(x_down_64))\n",
    "    x_down_16  = self.down4(self.downpool(x_down_32))\n",
    "    x_down_8   = self.down5(self.downpool(x_down_16))\n",
    "    x_up = self.up1(torch.cat([self.upsample(x_down_8), x_down_16], dim=1))\n",
    "    x_up = self.up2(torch.cat([self.upsample(x_up), x_down_32], dim=1))\n",
    "    x_up = self.up3(torch.cat([self.upsample(x_up), x_down_64], dim=1))\n",
    "    x_up = self.up4(torch.cat([self.upsample(x_up), x_down_128],  dim=1))\n",
    "    return self.tail(x_up)"
   ]
  },
  {
   "cell_type": "code",
   "execution_count": 2,
   "metadata": {},
   "outputs": [],
   "source": [
    "salt_loader = SaltLoader('./data/train/images/', './data/train/masks/', './data/train/depths.csv')\n",
    "\n",
    "model = DottedDict()\n",
    "model['batch_size'] = 16\n",
    "model['net'] = UNet().cuda()\n",
    "model['optim'] = optim.Adam(model.net.parameters(), lr=0.05)\n",
    "model['loader'] = DataLoader(salt_loader, model.batch_size, True, num_workers=2, drop_last=True)\n",
    "model['loader_other'] = DataLoader(salt_loader, model.batch_size, True, num_workers=2, drop_last=True)\n",
    "model['test_loader'] = None\n",
    "model['epochs_trained'] = 0\n",
    "model['log_test_loss'] = 50000\n",
    "model['test_loss_log'] = {'epoch':[], 'loss':[]}\n",
    "model['train_loss_log'] = {'epoch':[], 'loss':[]}"
   ]
  },
  {
   "cell_type": "code",
   "execution_count": 11,
   "metadata": {},
   "outputs": [
    {
     "name": "stderr",
     "output_type": "stream",
     "text": [
      "epochs: 100%|██████████| 10/10 [05:29<00:00, 32.98s/it]\n"
     ]
    }
   ],
   "source": [
    "train(model, 10)"
   ]
  },
  {
   "cell_type": "code",
   "execution_count": 12,
   "metadata": {},
   "outputs": [
    {
     "data": {
      "image/png": "[encoded data removed]",
      "text/plain": [
       "<Figure size 432x288 with 1 Axes>"
      ]
     },
     "metadata": {},
     "output_type": "display_data"
    }
   ],
   "source": [
    "plot_losses([('Train Loss', model['train_loss_log']),\n",
    "             ('Test Loss', model['test_loss_log'])])"
   ]
  }
 ],
 "metadata": {
  "kernelspec": {
   "display_name": "Python 3",
   "language": "python",
   "name": "python3"
  },
  "language_info": {
   "codemirror_mode": {
    "name": "ipython",
    "version": 3
   },
   "file_extension": ".py",
   "mimetype": "text/x-python",
   "name": "python",
   "nbconvert_exporter": "python",
   "pygments_lexer": "ipython3",
   "version": "3.6.6"
  }
 },
 "nbformat": 4,
 "nbformat_minor": 2
}
