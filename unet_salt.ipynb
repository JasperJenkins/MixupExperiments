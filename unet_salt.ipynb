{
 "cells": [
  {
   "cell_type": "code",
   "execution_count": 11,
   "metadata": {},
   "outputs": [],
   "source": [
    "import torch\n",
    "import torch.nn as nn\n",
    "import torch.optim as optim\n",
    "import torch.nn.functional as F\n",
    "from torch.utils.data import DataLoader, TensorDataset\n",
    "from salt_utils import get_train_test_salt_data\n",
    "import matplotlib.pyplot as plt\n",
    "from dotted.collection import DottedDict\n",
    "import numpy as np\n",
    "import pickle\n",
    "import random\n",
    "import tqdm\n",
    "\n",
    "def set_seed(seed):\n",
    "  random.seed(seed)\n",
    "  np.random.seed(seed)\n",
    "  torch.manual_seed(seed)\n",
    "  torch.cuda.manual_seed_all(seed)\n",
    "\n",
    "\n",
    "def plot_metrics(metric_logs):\n",
    "  for metric_log in metric_logs:\n",
    "    plt.plot(metric_log['epoch'], metric_log['metric'], label=metric_log['label'])\n",
    "  plt.xlabel('Epochs')\n",
    "  plt.ylabel('Metric')\n",
    "  plt.legend()\n",
    "  plt.show()\n",
    "  \n",
    "def train(model, epochs=1):\n",
    "  for e in tqdm.trange(epochs, desc='epochs'):\n",
    "    metric = 0\n",
    "    samples_seen = 0\n",
    "    model.net.train()\n",
    "    for img, mask in model.loader:\n",
    "      model.optim.zero_grad()\n",
    "      loss = F.binary_cross_entropy_with_logits(model.net(img.cuda()), mask.cuda())\n",
    "      metric += loss.item()\n",
    "      loss.backward()\n",
    "      model.optim.step()\n",
    "      samples_seen += model.batch_size\n",
    "    model.train_metric_log['epoch'].append(model.epochs_trained)\n",
    "    model.train_metric_log['metric'].append(metric / samples_seen)\n",
    "    \n",
    "    if model.epochs_trained % model.eval_test == 0:\n",
    "      metric = 0\n",
    "      samples_seen = 0\n",
    "      model.net.eval()\n",
    "      with torch.no_grad():\n",
    "        for img, mask in model.test_loader:\n",
    "          loss = F.binary_cross_entropy_with_logits(model.net(img.cuda()), mask.cuda())\n",
    "          metric += loss.item()\n",
    "          samples_seen += model.batch_size\n",
    "      model.test_metric_log['epoch'].append(model.epochs_trained)\n",
    "      model.test_metric_log['metric'].append(metric / samples_seen)\n",
    "    model.epochs_trained += 1\n",
    "      \n",
    "def train_mixup(model, epochs=1):\n",
    "  for e in tqdm.trange(epochs, desc='epochs'):\n",
    "    metric = 0\n",
    "    samples_seen = 0\n",
    "    model.net.train()\n",
    "    for img, mask in model.loader:\n",
    "      model.optim.zero_grad()\n",
    "      loss = F.binary_cross_entropy_with_logits(model.net(img.cuda()), mask.cuda())\n",
    "      metric += loss.item()\n",
    "      loss.backward()\n",
    "      model.optim.step()\n",
    "      samples_seen += model.batch_size\n",
    "    model.train_metric_log['epoch'].append(model.epochs_trained)\n",
    "    model.train_metric_log['metric'].append(metric / samples_seen)\n",
    "    \n",
    "    if model.epochs_trained % model.eval_test == 0:\n",
    "      metric = 0\n",
    "      samples_seen = 0\n",
    "      model.net.eval()\n",
    "      with torch.no_grad():\n",
    "        for img, mask in model.test_loader:\n",
    "          loss = F.binary_cross_entropy_with_logits(model.net(img.cuda()), mask.cuda())\n",
    "          metric += loss.item()\n",
    "          samples_seen += model.batch_size\n",
    "      model.test_metric_log['epoch'].append(model.epochs_trained)\n",
    "      model.test_metric_log['metric'].append(metric / samples_seen)\n",
    "    model.epochs_trained += 1      \n",
    "\n",
    "def conv(in_c, out_c):\n",
    "  return nn.Sequential(\n",
    "    nn.Conv2d(in_c, out_c, 3, padding=1, bias=False),\n",
    "    nn.BatchNorm2d(out_c),\n",
    "    nn.ELU(inplace=True),\n",
    "    nn.Conv2d(out_c, out_c, 3, padding=1, bias=False),\n",
    "    nn.BatchNorm2d(out_c),\n",
    "    nn.ELU(inplace=True),\n",
    "  )\n",
    "\n",
    "class UNet(nn.Module):\n",
    "  def __init__(self):\n",
    "    super(UNet, self).__init__()\n",
    "    self.down1 = conv(  2,  16) # (  2, 128, 128) --> ( 16, 128, 128)\n",
    "    self.down2 = conv( 16,  32) # ( 16,  64,  64) --> ( 32,  64,  64)\n",
    "    self.down3 = conv( 32,  64) # ( 32,  32,  32) --> ( 64,  32,  32)\n",
    "    self.down4 = conv( 64, 128) # ( 64,  16,  16) --> (128,  16,  16)\n",
    "    self.down5 = conv(128, 256) # (128,   8,   8) --> (256,   8,   8)\n",
    "    self.up1   = conv(384, 128) # (256,  16,  16) --> (128,  16,  16)\n",
    "    self.up2   = conv(192,  64) # (128,  32,  32) --> ( 64,  32,  32)\n",
    "    self.up3   = conv( 96,  32) # ( 64,  64,  64) --> ( 32,  64,  64)\n",
    "    self.up4   = conv( 48,  16) # ( 32, 128, 128) --> ( 16, 128, 128)\n",
    "    self.tail  = nn.Conv2d(16, 1, 1)\n",
    "    self.downpool = nn.MaxPool2d(kernel_size=2)\n",
    "    self.upsample = nn.Upsample(scale_factor=2, mode='bilinear', align_corners=False)\n",
    "\n",
    "  def forward(self, x):\n",
    "    x_down_128 = self.down1(x)\n",
    "    x_down_64  = self.down2(self.downpool(x_down_128))\n",
    "    x_down_32  = self.down3(self.downpool(x_down_64))\n",
    "    x_down_16  = self.down4(self.downpool(x_down_32))\n",
    "    x_down_8   = self.down5(self.downpool(x_down_16))\n",
    "    x_up = self.up1(torch.cat([self.upsample(x_down_8), x_down_16], dim=1))\n",
    "    x_up = self.up2(torch.cat([self.upsample(x_up), x_down_32], dim=1))\n",
    "    x_up = self.up3(torch.cat([self.upsample(x_up), x_down_64], dim=1))\n",
    "    x_up = self.up4(torch.cat([self.upsample(x_up), x_down_128],  dim=1))\n",
    "    return self.tail(x_up)"
   ]
  },
  {
   "cell_type": "code",
   "execution_count": 2,
   "metadata": {},
   "outputs": [],
   "source": [
    "set_seed(38)\n",
    "\n",
    "train_data, test_data = get_train_test_salt_data('./data/train/images/', \n",
    "                                                 './data/train/masks/', \n",
    "                                                 './data/train/depths.csv', \n",
    "                                                 test_frac=.2)\n",
    "model = DottedDict()\n",
    "model['batch_size'] = 48\n",
    "model['net'] = UNet().cuda()\n",
    "model['optim'] = optim.Adam(model.net.parameters(), lr=0.005)\n",
    "model['loader'] = DataLoader(train_data, model.batch_size, True, num_workers=2, drop_last=True)\n",
    "model['loader_other'] = DataLoader(train_data, model.batch_size, True, num_workers=2, drop_last=True)\n",
    "model['test_loader'] = DataLoader(test_data, model.batch_size, True, num_workers=2, drop_last=True)\n",
    "model['epochs_trained'] = 0\n",
    "model['eval_test'] = 2\n",
    "model['train_metric_log'] = {'label':'Train Loss', 'epoch':[], 'metric':[]}\n",
    "model['test_metric_log'] = {'label':'Test Loss', 'epoch':[], 'metric':[]}"
   ]
  },
  {
   "cell_type": "code",
   "execution_count": 3,
   "metadata": {},
   "outputs": [
    {
     "name": "stderr",
     "output_type": "stream",
     "text": [
      "epochs: 100%|██████████| 250/250 [1:43:17<00:00, 24.79s/it]\n"
     ]
    }
   ],
   "source": [
    "train(model, 250)"
   ]
  },
  {
   "cell_type": "code",
   "execution_count": 6,
   "metadata": {},
   "outputs": [
    {
     "data": {
      "image/png": "[encoded data removed]",
      "text/plain": [
       "<Figure size 432x288 with 1 Axes>"
      ]
     },
     "metadata": {},
     "output_type": "display_data"
    }
   ],
   "source": [
    "plot_metrics([model.train_metric_log, model.test_metric_log])"
   ]
  },
  {
   "cell_type": "code",
   "execution_count": null,
   "metadata": {},
   "outputs": [],
   "source": [
    "#pickle.dump([{**model['train_metric_log']}, {**model['test_metric_log']}], \n",
    "#            open('./history/unet_normal_aug_seed38.hist', 'wb'))"
   ]
  }
 ],
 "metadata": {
  "kernelspec": {
   "display_name": "Python 3",
   "language": "python",
   "name": "python3"
  },
  "language_info": {
   "codemirror_mode": {
    "name": "ipython",
    "version": 3
   },
   "file_extension": ".py",
   "mimetype": "text/x-python",
   "name": "python",
   "nbconvert_exporter": "python",
   "pygments_lexer": "ipython3",
   "version": "3.6.6"
  }
 },
 "nbformat": 4,
 "nbformat_minor": 2
}
